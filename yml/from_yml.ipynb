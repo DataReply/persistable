{
 "cells": [
  {
   "cell_type": "code",
   "execution_count": 1,
   "metadata": {
    "ExecuteTime": {
     "end_time": "2019-01-16T17:26:22.781256Z",
     "start_time": "2019-01-16T17:26:22.365863Z"
    }
   },
   "outputs": [],
   "source": [
    "%load_ext autoreload\n",
    "%autoreload 2\n",
    "%matplotlib inline\n",
    "import warnings"
   ]
  },
  {
   "cell_type": "code",
   "execution_count": 2,
   "metadata": {
    "ExecuteTime": {
     "end_time": "2019-01-16T17:26:23.373770Z",
     "start_time": "2019-01-16T17:26:23.269830Z"
    }
   },
   "outputs": [],
   "source": [
    "from yml2api import yml2api, load_yaml, recyml2api\n",
    "from pathlib import Path"
   ]
  },
  {
   "cell_type": "code",
   "execution_count": 3,
   "metadata": {
    "ExecuteTime": {
     "end_time": "2019-01-16T17:26:23.947849Z",
     "start_time": "2019-01-16T17:26:23.878854Z"
    }
   },
   "outputs": [],
   "source": [
    "p = Path(\"./embedding_schema.yml\")"
   ]
  },
  {
   "cell_type": "code",
   "execution_count": 81,
   "metadata": {
    "ExecuteTime": {
     "end_time": "2019-01-16T17:45:07.697028Z",
     "start_time": "2019-01-16T17:45:07.538997Z"
    },
    "scrolled": false
   },
   "outputs": [],
   "source": [
    "y = load_yaml(p)"
   ]
  },
  {
   "cell_type": "code",
   "execution_count": 287,
   "metadata": {
    "ExecuteTime": {
     "end_time": "2019-01-16T18:24:49.129918Z",
     "start_time": "2019-01-16T18:24:49.034987Z"
    }
   },
   "outputs": [],
   "source": [
    "g = recyml2api(y, y)"
   ]
  },
  {
   "cell_type": "code",
   "execution_count": 295,
   "metadata": {
    "ExecuteTime": {
     "end_time": "2019-01-16T18:25:00.756127Z",
     "start_time": "2019-01-16T18:25:00.682244Z"
    },
    "scrolled": false
   },
   "outputs": [
    {
     "name": "stdout",
     "output_type": "stream",
     "text": [
      "\n",
      "class ParsedText(Persistable):\n",
      "    \"\"\"\n",
      "    Parses texts object, which generates characters, tokens, and sentences.\n",
      "\n",
      "    Payload\n",
      "    -------\n",
      "    payload     : recdefaultdict\n",
      "    |-- [key1]      : [type1]\n",
      "    |   Description for [key1]\n",
      "    |-- [key2]      : [type2]\n",
      "    |   Description for [key1]\n",
      "    |   |-- [key2.1] : [type2.1]\n",
      "    |   |   Description for [key1]\n",
      "\n",
      "    Properties\n",
      "    ----------\n",
      "    doc_sent_chars : Generator[List[List[char]]]\n",
      "        Char generator\n",
      "    doc_sent_tokens : Generator[List[List[string]]]\n",
      "        Token generator\n",
      "    \n",
      "    Dependencies\n",
      "    ------------\n",
      "    Texts\n",
      "               \n",
      "    def __init__(params: dict, texts: Texts, verbose: bool=True):\n",
      "        \"\"\"\n",
      "        Initiate persistable object.\n",
      "        \n",
      "        Parameters\n",
      "        ----------\n",
      "        params : dict\n",
      "        \n",
      "            Required Parameters\n",
      "            -------------------\n",
      "            token_type : str\n",
      "                spacy model name, used for parsing\n",
      "                EXAMPLES: ['tokens', 'lemmas']\n",
      "            remove_stopword_tokens : bool\n",
      "                flag to remove stopword tokens\n",
      "            remove_punctuation_tokens : bool\n",
      "                flag to remove punctuation tokens\n",
      "            lower_case_tokens : bool\n",
      "                flag to lower case tokens\n",
      "                \n",
      "            Optional Parameters\n",
      "            -------------------\n",
      "            other_defining_characteristics : any\n",
      "                This is the flexible parameter that a user can use when details are not captured by other parameters.\n",
      "                DEFAULT: None\n",
      "                EXAMPLES: None     \n",
      "        \n",
      "        texts : Texts\n",
      "            Texts dependency\n",
      "        verbose : bool\n",
      "            Verbosity flag - False dumps WARNING level logs, True dumps info level logs.\n",
      "        \"\"\"\n",
      "                \n",
      "        super().__init__(\n",
      "            payload_name='parsed_texts',\n",
      "            params=merge_dicts(\n",
      "                dict(\n",
      "                    other_defining_characteristics=None\n",
      "                ),\n",
      "                params\n",
      "            ),\n",
      "            from_persistable=[texts],\n",
      "            required_params=('token_type', 'remove_stopword_tokens', 'remove_punctuation_tokens', 'lower_case_tokens'),\n",
      "            excluded_fn_params=[],\n",
      "            verbose=verbose\n",
      "        )\n",
      "        \n",
      "    def _generate_payload(self, **untracked_payload_params):\n",
      "        \"\"\"\n",
      "        Function that defines how payload is generated.\n",
      "        \n",
      "        Parameters\n",
      "        ----------\n",
      "        untracked_payload_params    : dict\n",
      "        \"\"\"\n",
      "        \n",
      "        raise NotImplementedError(\"_generate_payload() not implemented.\")\n",
      "               \n",
      "        \n",
      "    @property\n",
      "    def doc_sent_chars(self):\n",
      "        \"\"\"\n",
      "        Char generator\n",
      "        \"\"\"\n",
      "    \n",
      "        raise NotImplementedError(\"Property not implemented.\")\n",
      "    \n",
      "                \n",
      "\n",
      "    @property\n",
      "    def doc_sent_tokens(self):\n",
      "        \"\"\"\n",
      "        Token generator\n",
      "        \"\"\"\n",
      "    \n",
      "        raise NotImplementedError(\"Property not implemented.\")\n",
      "    \n",
      "                \n"
     ]
    }
   ],
   "source": [
    "print(next(g))"
   ]
  },
  {
   "cell_type": "code",
   "execution_count": null,
   "metadata": {},
   "outputs": [],
   "source": []
  },
  {
   "cell_type": "code",
   "execution_count": null,
   "metadata": {},
   "outputs": [],
   "source": []
  },
  {
   "cell_type": "code",
   "execution_count": null,
   "metadata": {},
   "outputs": [],
   "source": []
  },
  {
   "cell_type": "code",
   "execution_count": null,
   "metadata": {},
   "outputs": [],
   "source": []
  },
  {
   "cell_type": "code",
   "execution_count": 3,
   "metadata": {
    "ExecuteTime": {
     "end_time": "2019-01-12T16:43:15.566903Z",
     "start_time": "2019-01-12T16:43:15.563216Z"
    }
   },
   "outputs": [],
   "source": [
    "y = yaml.load(\"embedding_schema.yml\")"
   ]
  },
  {
   "cell_type": "code",
   "execution_count": 254,
   "metadata": {
    "ExecuteTime": {
     "end_time": "2019-01-12T18:50:21.109410Z",
     "start_time": "2019-01-12T18:50:21.031970Z"
    }
   },
   "outputs": [],
   "source": [
    "with open(\"embedding_schema.yml\", 'r') as stream:\n",
    "    y=yaml.load(stream)"
   ]
  },
  {
   "cell_type": "code",
   "execution_count": 33,
   "metadata": {
    "ExecuteTime": {
     "end_time": "2019-01-12T16:50:33.492009Z",
     "start_time": "2019-01-12T16:50:33.485037Z"
    }
   },
   "outputs": [
    {
     "data": {
      "text/plain": [
       "{'texts': {'type': 'Generator[string]', 'description': 'Texts generator'},\n",
       " 'meta': {'type': 'Generator[dict]', 'description': 'Meta generator'}}"
      ]
     },
     "execution_count": 33,
     "metadata": {},
     "output_type": "execute_result"
    }
   ],
   "source": [
    "y[\"Texts\"][\"properties\"]"
   ]
  },
  {
   "cell_type": "code",
   "execution_count": 262,
   "metadata": {
    "ExecuteTime": {
     "end_time": "2019-01-12T18:53:36.918937Z",
     "start_time": "2019-01-12T18:53:36.914254Z"
    }
   },
   "outputs": [
    {
     "data": {
      "text/plain": [
       "'\\nfrom persistable import Persistable\\nfrom persistable.util.dict import merge_dicts\\n\\n'"
      ]
     },
     "execution_count": 262,
     "metadata": {},
     "output_type": "execute_result"
    }
   ],
   "source": [
    "\"\"\"\n",
    "from persistable import Persistable\n",
    "from persistable.util.dict import merge_dicts\n",
    "\n",
    "\"\"\""
   ]
  },
  {
   "cell_type": "code",
   "execution_count": 297,
   "metadata": {
    "ExecuteTime": {
     "end_time": "2019-01-12T19:22:58.973421Z",
     "start_time": "2019-01-12T19:22:58.906263Z"
    }
   },
   "outputs": [],
   "source": [
    "objects = (\n",
    "f'''\n",
    "class {object_name}(Persistable):\n",
    "    \"\"\"\n",
    "    {obj[\"description\"]}\n",
    "\n",
    "    Payload\n",
    "    -------\n",
    "    payload     : recdefaultdict\n",
    "    |-- [key1]      : [type1]\n",
    "    |   Description for [key1]\n",
    "    |-- [key2]      : [type2]\n",
    "    |   Description for [key1]\n",
    "    |   |-- [key2.1] : [type2.1]\n",
    "    |   |   Description for [key1]\n",
    "\n",
    "    Properties\n",
    "    ----------\n",
    "''' + \"\\n\".join(\n",
    "    [\n",
    "f'''\n",
    "    {obj_property} : {obj['properties'][obj_property]['type']}\n",
    "        {obj['properties'][obj_property]['description']}\n",
    "''' for obj_property in obj[\"properties\"]\n",
    "    ] if \"properties\" in obj else [\"None\"]\n",
    ") +\n",
    "f'''\n",
    "\n",
    "    Dependencies\n",
    "    ------------\n",
    "''' + \"\\n\".join(\n",
    "    [\n",
    "        f\"    {dep} : {obj['dependencies'][dep]['type']}\" +\n",
    "        \"\\n        {obj['dependencies'][dep]['description']}\"\n",
    "        for dep in obj[\"dependencies\"]\n",
    "    ] if \"dependencies\" in obj else [\"None\"]) +\n",
    "f'''\n",
    "           \n",
    "    def __init__(params, intermediate_datapath, verbose=True):\n",
    "       \"\"\"\n",
    "       Initiate persistable object.\n",
    "    \n",
    "       Parameters\n",
    "       ----------\n",
    "       params : dict\n",
    "    \n",
    "           Required Parameters\n",
    "           -------------------\n",
    "''' + \"\\n\".join(\n",
    "    [\n",
    "        f\"            {req_params} : {obj['required_parameters'][req_params]['type']}\" +\n",
    "        f\"\\n                {obj['required_parameters'][req_params]['description']}\"\n",
    "        for req_params in obj[\"required_parameters\"]\n",
    "    ] if \"required_parameters\" in obj else [\"None\"]) +\n",
    "f'''\n",
    "            \n",
    "            Optional Parameters\n",
    "            -------------------\n",
    "''' + \"\\n\".join(\n",
    "    [\n",
    "        f\"            {opt_param}     : {obj['optional_parameters'][opt_param]['type']}\" +\n",
    "        f\"\\n                {obj['optional_parameters'][opt_param]['description']}\"\n",
    "        for opt_param in obj[\"optional_parameters\"]\n",
    "    ] if \"optional_parameters\" in obj else [\"None\"]) +\n",
    "f'''\n",
    "           \n",
    "        intermediate_datapath : Path\n",
    "           The path where intermediate data is persisted / loaded\n",
    "        verbose : bool\n",
    "           Verbosity flag (False dumps only WARNING level logs)\n",
    "        \"\"\"\n",
    "        \n",
    "        super().__init__(\n",
    "           payload_name={repr(obj[\"name\"])},\n",
    "           params=merge_dicts(\n",
    "               dict(\n",
    "''' + \"\\n\".join(\n",
    "    [\n",
    "        f\"                    {opt_param}={repr(obj['optional_parameters'][opt_param].get('default', None))}\"\n",
    "        for opt_param in obj[\"optional_parameters\"]\n",
    "    ] if \"optional_parameters\" in obj else []) +\n",
    "f'''\n",
    "               ),\n",
    "               params\n",
    "           ),\n",
    "           workingdatapath=intermediate_datapath,\n",
    "           required_params={tuple(req_param for req_param in obj[\"required_parameters\"])},\n",
    "           excluded_fn_params=[],\n",
    "           verbose=verbose\n",
    "       )\n",
    "    \n",
    "    def _generate_payload(self, **untracked_payload_params):\n",
    "       \"\"\"\n",
    "       Function that defines how payload is generated.\n",
    "    \n",
    "       Parameters\n",
    "       ----------\n",
    "       untracked_payload_params    : dict\n",
    "       \"\"\"\n",
    "       pass\n",
    "           \n",
    "''' + \"\\n\".join(\n",
    "[\n",
    "f'''\n",
    "    @property\n",
    "    def {obj_property}(self):\n",
    "        \"\"\"\n",
    "        {obj[\"properties\"][obj_property][\"description\"]}\n",
    "        \"\"\"\n",
    "\n",
    "        raise NotImplementedError(\"Property not implemented.\")\n",
    "\n",
    "''' for obj_property in obj[\"properties\"]\n",
    "] if \"properties\" in obj else [])\n",
    "for object_name, obj in y.items())"
   ]
  },
  {
   "cell_type": "code",
   "execution_count": 298,
   "metadata": {
    "ExecuteTime": {
     "end_time": "2019-01-12T19:22:59.394363Z",
     "start_time": "2019-01-12T19:22:59.390934Z"
    }
   },
   "outputs": [
    {
     "name": "stdout",
     "output_type": "stream",
     "text": [
      "\n",
      "class Texts(Persistable):\n",
      "    \"\"\"\n",
      "    Generic texts object that generates a text-string and meta data record for each document.\n",
      "\n",
      "    Payload\n",
      "    -------\n",
      "    payload     : recdefaultdict\n",
      "    |-- [key1]      : [type1]\n",
      "    |   Description for [key1]\n",
      "    |-- [key2]      : [type2]\n",
      "    |   Description for [key1]\n",
      "    |   |-- [key2.1] : [type2.1]\n",
      "    |   |   Description for [key1]\n",
      "\n",
      "    Properties\n",
      "    ----------\n",
      "\n",
      "    texts : Generator[string]\n",
      "        Texts generator\n",
      "\n",
      "\n",
      "    meta : Generator[dict]\n",
      "        Meta generator\n",
      "\n",
      "\n",
      "    Dependencies\n",
      "    ------------\n",
      "None\n",
      "           \n",
      "    def __init__(params, intermediate_datapath, verbose=True):\n",
      "       \"\"\"\n",
      "       Initiate persistable object.\n",
      "    \n",
      "       Parameters\n",
      "       ----------\n",
      "       params : dict\n",
      "    \n",
      "           Required Parameters\n",
      "           -------------------\n",
      "            domain : string\n",
      "                Select cloud or local\n",
      "            datafileslocator : string\n",
      "                Universal locator such as a filepath or bucket uri.  It is best practice that this location uniquely defines the dataset (e.g. 'dowjones/<time_frame>/<filter desc>)\n",
      "            language : string\n",
      "                What is the language\n",
      "            \n",
      "            Optional Parameters\n",
      "            -------------------\n",
      "            filepattern     : string\n",
      "                File pattern for filtering files in read location\n",
      "            other_defining_characteristics     : any\n",
      "                This is the flexible parameter that a user can use when details are not captured by other parameters.\n",
      "           \n",
      "        intermediate_datapath : Path\n",
      "           The path where intermediate data is persisted / loaded\n",
      "        verbose : bool\n",
      "           Verbosity flag (False dumps only WARNING level logs)\n",
      "        \"\"\"\n",
      "        \n",
      "        super().__init__(\n",
      "           payload_name='texts',\n",
      "           params=merge_dicts(\n",
      "               dict(\n",
      "                    filepattern='*.*'\n",
      "                    other_defining_characteristics=None\n",
      "               ),\n",
      "               params\n",
      "           ),\n",
      "           workingdatapath=intermediate_datapath,\n",
      "           required_params=('domain', 'datafileslocator', 'language'),\n",
      "           excluded_fn_params=[],\n",
      "           verbose=verbose\n",
      "       )\n",
      "    \n",
      "    def _generate_payload(self, **untracked_payload_params):\n",
      "       \"\"\"\n",
      "       Function that defines how payload is generated.\n",
      "    \n",
      "       Parameters\n",
      "       ----------\n",
      "       untracked_payload_params    : dict\n",
      "       \"\"\"\n",
      "       pass\n",
      "           \n",
      "\n",
      "    @property\n",
      "    def texts(self):\n",
      "        \"\"\"\n",
      "        Texts generator\n",
      "        \"\"\"\n",
      "\n",
      "        raise NotImplementedError(\"Property not implemented.\")\n",
      "\n",
      "\n",
      "\n",
      "    @property\n",
      "    def meta(self):\n",
      "        \"\"\"\n",
      "        Meta generator\n",
      "        \"\"\"\n",
      "\n",
      "        raise NotImplementedError(\"Property not implemented.\")\n",
      "\n",
      "\n"
     ]
    }
   ],
   "source": [
    "print(next(objects))"
   ]
  },
  {
   "cell_type": "code",
   "execution_count": null,
   "metadata": {},
   "outputs": [],
   "source": []
  }
 ],
 "metadata": {
  "kernelspec": {
   "display_name": "Python [default]",
   "language": "python",
   "name": "python3"
  },
  "toc": {
   "base_numbering": 1,
   "nav_menu": {},
   "number_sections": true,
   "sideBar": true,
   "skip_h1_title": false,
   "title_cell": "Table of Contents",
   "title_sidebar": "Contents",
   "toc_cell": false,
   "toc_position": {},
   "toc_section_display": true,
   "toc_window_display": false
  },
  "varInspector": {
   "cols": {
    "lenName": 16,
    "lenType": 16,
    "lenVar": 40
   },
   "kernels_config": {
    "python": {
     "delete_cmd_postfix": "",
     "delete_cmd_prefix": "del ",
     "library": "var_list.py",
     "varRefreshCmd": "print(var_dic_list())"
    },
    "r": {
     "delete_cmd_postfix": ") ",
     "delete_cmd_prefix": "rm(",
     "library": "var_list.r",
     "varRefreshCmd": "cat(var_dic_list()) "
    }
   },
   "types_to_exclude": [
    "module",
    "function",
    "builtin_function_or_method",
    "instance",
    "_Feature"
   ],
   "window_display": false
  }
 },
 "nbformat": 4,
 "nbformat_minor": 2
}
