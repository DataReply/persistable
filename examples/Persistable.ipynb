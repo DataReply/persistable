{
 "cells": [
  {
   "cell_type": "markdown",
   "metadata": {},
   "source": [
    "# Introduction:\n",
    "\n",
    "This material has been used in the past to teach colleagues in our group how to use persistable.\n",
    "\n",
    "The `persistable` package provides a general loggable superclass that provides Python users a simple way to persist load calculations and track corresponding calculation parameters.\n",
    "\n",
    "Inheriting from Persistable automatically spools a logger and appends the PersistLoad object for easy and reproducible data persistance with loading, with parameter tracking. The PersistLoad object is based on setting a workingdatadir within which all persisted data is saved and logs are stored. Such a directory acts as a home for a specific set of experiments.\n",
    "\n",
    "For more details, read the [docs](https://github.com/DataReply/persistable).\n",
    "\n",
    "# Imports:"
   ]
  },
  {
   "cell_type": "code",
   "execution_count": 3,
   "metadata": {
    "ExecuteTime": {
     "end_time": "2018-03-07T11:27:22.539157Z",
     "start_time": "2018-03-07T11:27:22.530281Z"
    },
    "collapsed": true
   },
   "outputs": [],
   "source": [
    "# Persistable Class:\n",
    "from persistable import Persistable\n",
    "\n",
    "# Set a persistable top path:\n",
    "from pathlib import Path\n",
    "LOCALDATAPATH = Path('.').absolute()"
   ]
  },
  {
   "cell_type": "markdown",
   "metadata": {},
   "source": [
    "# Instantiate Persistable:\n",
    "Each persistable object is instantiated with parameters that should uniquely (or nearly uniquely) define the payload."
   ]
  },
  {
   "cell_type": "code",
   "execution_count": 4,
   "metadata": {
    "ExecuteTime": {
     "end_time": "2018-03-07T11:27:41.720618Z",
     "start_time": "2018-03-07T11:27:41.701127Z"
    }
   },
   "outputs": [
    {
     "name": "stdout",
     "output_type": "stream",
     "text": [
      "2018-03-07 12:27:41,709 - Persistable - __init__ - INFO - ---- NEW PERSISTABLE SESSION ---- (/Users/aloosley/Alex/Repos/persistable/examples/knowledgeshare_20170929)\n",
      "2018-03-07 12:27:41,712 - Persistable - __init__ - INFO - Payload named first_payload; Parameters set to {'hello': 'world', 'another_dict': {'test': [1, 2, 3]}, 'a': 1, 'b': 4}\n"
     ]
    }
   ],
   "source": [
    "params = {\n",
    "    \"hello\": \"world\",\n",
    "    \"another_dict\": {\n",
    "        \"test\": [1,2,3]\n",
    "    },\n",
    "    \"a\": 1,\n",
    "    \"b\": 4\n",
    "}\n",
    "p = Persistable(\n",
    "    payload_name=\"first_payload\",\n",
    "    params=params,\n",
    "    workingdatapath=LOCALDATAPATH / \"knowledgeshare_20170929\" # object will live in this local disk location  \n",
    ")"
   ]
  },
  {
   "cell_type": "markdown",
   "metadata": {
    "ExecuteTime": {
     "end_time": "2017-09-29T08:46:45.850050Z",
     "start_time": "2017-09-29T08:46:45.847270Z"
    }
   },
   "source": [
    "# Define Payload:\n",
    "Payloads are defined by overriding the _generate_payload function:"
   ]
  },
  {
   "cell_type": "markdown",
   "metadata": {},
   "source": [
    "## Payload defined by _generate_payload function:"
   ]
  },
  {
   "cell_type": "markdown",
   "metadata": {},
   "source": [
    "Simply override _generate_payload to give the Persistable object generate functionality.  Note that generate here means to create the payload.  The term is not meeant to indicate that a python generator is being produced."
   ]
  },
  {
   "cell_type": "code",
   "execution_count": 18,
   "metadata": {
    "ExecuteTime": {
     "end_time": "2018-03-07T11:37:33.932713Z",
     "start_time": "2018-03-07T11:37:33.926500Z"
    }
   },
   "outputs": [],
   "source": [
    "# ML Example:\n",
    "\"\"\"\n",
    "def _generate_payload(self):\n",
    "    X = pd.read_csv(self.params['datafile'])\n",
    "    model = XGboost(X)\n",
    "    model.fit()\n",
    "    self.payload['model'] = model\n",
    "\"\"\"\n",
    "\n",
    "# Silly Example:\n",
    "def _generate_payload(self):\n",
    "    self.payload['sum'] = self.params['a'] + self.params['b']\n",
    "    self.payload['msg'] = self.params['hello']"
   ]
  },
  {
   "cell_type": "markdown",
   "metadata": {},
   "source": [
    "Now we will monkeypatch the payload generator to override its counterpart in Persistable object (only necessary because we've defined the generator outside of an IDE)."
   ]
  },
  {
   "cell_type": "code",
   "execution_count": 19,
   "metadata": {
    "ExecuteTime": {
     "end_time": "2018-03-07T11:37:34.511821Z",
     "start_time": "2018-03-07T11:37:34.506456Z"
    }
   },
   "outputs": [],
   "source": [
    "def bind(instance, method):\n",
    "    def binding_scope_fn(*args, **kwargs): \n",
    "        return method(instance, *args, **kwargs)\n",
    "    return binding_scope_fn\n",
    "\n",
    "p._generate_payload = bind(p, _generate_payload)"
   ]
  },
  {
   "cell_type": "code",
   "execution_count": 20,
   "metadata": {
    "ExecuteTime": {
     "end_time": "2018-03-07T11:37:34.692151Z",
     "start_time": "2018-03-07T11:37:34.684755Z"
    }
   },
   "outputs": [
    {
     "name": "stdout",
     "output_type": "stream",
     "text": [
      "2018-03-07 12:37:34,685 - Persistable - generate - INFO - Now generating first_payload payload...\n",
      "2018-03-07 12:37:34,689 - PersistLoadWithParameters - _persist_with_params - INFO - PERSISTING first_payload to:\n",
      " ---> first_payload{a=1,another_dict={test=[1, 2, 3]},b=4,hello='world'}.pkl <---\n"
     ]
    }
   ],
   "source": [
    "p.generate()"
   ]
  },
  {
   "cell_type": "markdown",
   "metadata": {},
   "source": [
    "## Persistable as a Super Class:\n",
    "The non Monkey Patching equivalent to what we did above:"
   ]
  },
  {
   "cell_type": "code",
   "execution_count": 22,
   "metadata": {
    "ExecuteTime": {
     "end_time": "2018-03-07T11:38:36.293719Z",
     "start_time": "2018-03-07T11:38:36.268462Z"
    }
   },
   "outputs": [
    {
     "name": "stdout",
     "output_type": "stream",
     "text": [
      "2018-03-07 12:38:36,282 - SillyPersistableExample - __init__ - INFO - ---- NEW PERSISTABLE SESSION ---- (/Users/aloosley/Alex/Repos/persistable/examples/knowledgeshare_20170929)\n",
      "2018-03-07 12:38:36,284 - SillyPersistableExample - __init__ - INFO - Payload named silly_example; Parameters set to {'hello': 'world', 'another_dict': {'test': [1, 2, 3]}, 'a': 1, 'b': 4}\n",
      "2018-03-07 12:38:36,286 - SillyPersistableExample - generate - INFO - Now generating silly_example payload...\n",
      "2018-03-07 12:38:36,288 - PersistLoadWithParameters - _persist_with_params - INFO - PERSISTING silly_example to:\n",
      " ---> silly_example{a=1,another_dict={test=[1, 2, 3]},b=4,hello='world'}.pkl <---\n"
     ]
    }
   ],
   "source": [
    "class SillyPersistableExample(Persistable):\n",
    "    def _generate_payload(self):\n",
    "        self.payload['sum'] = self.params['a'] + self.params['b']\n",
    "        self.payload['msg'] = self.params['hello']\n",
    "    \n",
    "p2 = SillyPersistableExample(payload_name=\"silly_example\", params=params, workingdatapath=LOCALDATAPATH / \"knowledgeshare_20170929\")\n",
    "p2.generate()"
   ]
  },
  {
   "cell_type": "markdown",
   "metadata": {},
   "source": [
    "## Load:"
   ]
  },
  {
   "cell_type": "code",
   "execution_count": 24,
   "metadata": {
    "ExecuteTime": {
     "end_time": "2018-03-07T11:39:31.111410Z",
     "start_time": "2018-03-07T11:39:31.093656Z"
    }
   },
   "outputs": [
    {
     "name": "stdout",
     "output_type": "stream",
     "text": [
      "2018-03-07 12:39:31,099 - Persistable - __init__ - INFO - ---- NEW PERSISTABLE SESSION ---- (/Users/aloosley/Alex/Repos/persistable/examples/knowledgeshare_20170929)\n",
      "2018-03-07 12:39:31,102 - Persistable - __init__ - INFO - Payload named first_payload; Parameters set to {'hello': 'world', 'another_dict': {'test': [1, 2, 3]}, 'a': 1, 'b': 4}\n",
      "2018-03-07 12:39:31,104 - Persistable - load - INFO - Now loading first_payload payload...\n",
      "2018-03-07 12:39:31,106 - PersistLoadWithParameters - load - INFO - Attempting to LOAD first_payload from:\n",
      " <--- first_payload{a=1,another_dict={test=[1, 2, 3]},b=4,hello='world'}.pkl --->\n",
      "2018-03-07 12:39:31,108 - PersistLoadWithParameters - _load_with_params - INFO - Exact first_payload file found and LOADED!\n"
     ]
    }
   ],
   "source": [
    "p_test = Persistable(\n",
    "    \"first_payload\",\n",
    "    params=params,\n",
    "    workingdatapath=LOCALDATAPATH/\"knowledgeshare_20170929\"\n",
    ")\n",
    "p_test.load()"
   ]
  },
  {
   "cell_type": "code",
   "execution_count": 25,
   "metadata": {
    "ExecuteTime": {
     "end_time": "2018-03-07T11:39:33.497295Z",
     "start_time": "2018-03-07T11:39:33.473794Z"
    }
   },
   "outputs": [
    {
     "data": {
      "text/plain": [
       "defaultdict(<function persistable.util.dict.recdefaultdict>,\n",
       "            {'msg': 'world', 'sum': 5})"
      ]
     },
     "execution_count": 25,
     "metadata": {},
     "output_type": "execute_result"
    }
   ],
   "source": [
    "p_test.payload"
   ]
  }
 ],
 "metadata": {
  "kernelspec": {
   "display_name": "Python 3 (itac)",
   "language": "python",
   "name": "py3itac"
  },
  "language_info": {
   "codemirror_mode": {
    "name": "ipython",
    "version": 3
   },
   "file_extension": ".py",
   "mimetype": "text/x-python",
   "name": "python",
   "nbconvert_exporter": "python",
   "pygments_lexer": "ipython3",
   "version": "3.6.2"
  },
  "latex_envs": {
   "LaTeX_envs_menu_present": true,
   "bibliofile": "biblio.bib",
   "cite_by": "apalike",
   "current_citInitial": 1,
   "eqLabelWithNumbers": true,
   "eqNumInitial": 1,
   "labels_anchors": false,
   "latex_user_defs": false,
   "report_style_numbering": false,
   "user_envs_cfg": false
  },
  "toc": {
   "colors": {
    "hover_highlight": "#DAA520",
    "running_highlight": "#FF0000",
    "selected_highlight": "#FFD700"
   },
   "moveMenuLeft": true,
   "nav_menu": {
    "height": "119px",
    "width": "253px"
   },
   "navigate_menu": true,
   "number_sections": true,
   "sideBar": true,
   "threshold": 4,
   "toc_cell": false,
   "toc_section_display": "block",
   "toc_window_display": false
  },
  "varInspector": {
   "cols": {
    "lenName": 16,
    "lenType": 16,
    "lenVar": 40
   },
   "kernels_config": {
    "python": {
     "delete_cmd_postfix": "",
     "delete_cmd_prefix": "del ",
     "library": "var_list.py",
     "varRefreshCmd": "print(var_dic_list())"
    },
    "r": {
     "delete_cmd_postfix": ") ",
     "delete_cmd_prefix": "rm(",
     "library": "var_list.r",
     "varRefreshCmd": "cat(var_dic_list()) "
    }
   },
   "types_to_exclude": [
    "module",
    "function",
    "builtin_function_or_method",
    "instance",
    "_Feature"
   ],
   "window_display": false
  }
 },
 "nbformat": 4,
 "nbformat_minor": 2
}
